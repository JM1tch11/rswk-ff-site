{
 "cells": [
  {
   "cell_type": "code",
   "execution_count": 1,
   "metadata": {},
   "outputs": [],
   "source": [
    "import requests\n",
    "from espnff import League\n",
    "import pandas as pd\n",
    "\n",
    "# from basic_app.models import CurrentSeason\n",
    "\n",
    "\n",
    "\n",
    "full = []\n",
    "\n",
    "endpoint = 'http://games.espn.com/ffl/api/v2/scoreboard'\n",
    "\n",
    "league_id = 1406490\n",
    "seasonId = 2018\n",
    "league = League(league_id, seasonId)\n",
    "\n",
    "def gameweek(league): #finds currrent week\n",
    "        count = 1\n",
    "        current = False\n",
    "        while current == False and count < 17:\n",
    "             r = requests.get('http://games.espn.com/ffl/api/v2/scoreboard',\n",
    "                    params={'leagueId': league_id, 'seasonId': 2018, 'matchupPeriodId': count})\n",
    "             temp = r.json()\n",
    "             if temp['scoreboard']['matchups'][0]['winner'] == 'undecided':\n",
    "                     current = True\n",
    "                     break\n",
    "             else:\n",
    "                     count += 1\n",
    "        return count\n",
    "\n",
    "gw = gameweek(league)\n",
    "\n",
    "def cur_db(gw):\n",
    "    frame = []\n",
    "    scores = {}\n",
    "    for week in range(1, gw):\n",
    "        r = requests.get('http://games.espn.com/ffl/api/v2/scoreboard',\n",
    "                        params={'leagueId': league_id, 'seasonId': 2018, 'matchupPeriodId': week})\n",
    "        scores[week] = r.json()\n",
    "\n",
    "    for key in scores:\n",
    "        temp = scores[key]['scoreboard']['matchups']\n",
    "        for match in temp:\n",
    "            if match['winner'] == \"away\":\n",
    "                away = 1\n",
    "                home = 0\n",
    "            else:\n",
    "                away = 0\n",
    "                home = 1\n",
    "            frame.append([key,\n",
    "                       match['teams'][0]['team']['teamAbbrev'],\n",
    "                       match['teams'][0]['team']['teamLocation'],\n",
    "                       match['teams'][0]['team']['teamNickname'],\n",
    "                       match['teams'][1]['team']['teamAbbrev'],\n",
    "                       match['teams'][0]['score'],\n",
    "                       match['teams'][1]['score'],\n",
    "                       home,\n",
    "                       match['teams'][1]['team']['teamAbbrev'],\n",
    "                       match['teams'][1]['team']['teamLocation'],\n",
    "                       match['teams'][1]['team']['teamNickname'],\n",
    "                       match['teams'][0]['team']['teamAbbrev'],\n",
    "                       match['teams'][1]['score'],\n",
    "                       match['teams'][0]['score'],\n",
    "                       away])\n",
    "\n",
    "    df = pd.DataFrame(frame, columns=['Week', 'HomeAbbrev', 'Home Location', 'Home Nickname', 'H Opponent', 'HomeScore', 'H Opponent Score',\n",
    "                                  'H Result','AwayAbbrev', 'Away Location', 'Away Nickname', 'A Opponent', 'AwayScore', 'A Opponent Score', 'A Result'])\n",
    "\n",
    "    df['Home Name'] = df['Home Location'] + df['Home Nickname']\n",
    "    df['Away Name'] = df['Away Location'] + df['Away Nickname']\n",
    "\n",
    "    df = (df[['Week', 'HomeAbbrev', 'Home Name', 'HomeScore', 'H Result', 'H Opponent', 'H Opponent Score']].rename(columns={'HomeAbbrev': 'Abbrev', 'HomeScore': 'Score', 'Home Name': 'Team Name', 'H Result':'Result', 'H Opponent':'Opponent', 'H Opponent Score':'Points against'}).append(df[['Week', 'AwayAbbrev', 'Away Name',\n",
    "'AwayScore', 'A Result', 'A Opponent', 'A Opponent Score']].rename(columns={'AwayAbbrev': 'Abbrev', 'AwayScore': 'Score', 'Away Name':'Team Name', 'A Result':'Result', 'A Opponent':'Opponent', 'A Opponent Score':'Points against'})))\n",
    "\n",
    "    df_list = df.values.tolist()\n",
    "    return df\n",
    "\n",
    "def gw_db_update(gw):\n",
    "    frame = []\n",
    "    scores = {}\n",
    "    week = gw - 1\n",
    "    r = requests.get('http://games.espn.com/ffl/api/v2/scoreboard',\n",
    "                    params={'leagueId': league_id, 'seasonId': 2018, 'matchupPeriodId': week})\n",
    "    scores[week] = r.json()\n",
    "\n",
    "    for key in scores:\n",
    "        temp = scores[key]['scoreboard']['matchups']\n",
    "        for match in temp:\n",
    "            if match['winner'] == \"away\":\n",
    "                away = 1\n",
    "                home = 0\n",
    "            else:\n",
    "                away = 0\n",
    "                home = 1\n",
    "            frame.append([key,\n",
    "                       match['teams'][0]['team']['teamAbbrev'],\n",
    "                       match['teams'][0]['team']['teamLocation'],\n",
    "                       match['teams'][0]['team']['teamNickname'],\n",
    "                       match['teams'][1]['team']['teamAbbrev'],\n",
    "                       match['teams'][0]['score'],\n",
    "                       match['teams'][1]['score'],\n",
    "                       home,\n",
    "                       match['teams'][1]['team']['teamAbbrev'],\n",
    "                       match['teams'][1]['team']['teamLocation'],\n",
    "                       match['teams'][1]['team']['teamNickname'],\n",
    "                       match['teams'][0]['team']['teamAbbrev'],\n",
    "                       match['teams'][1]['score'],\n",
    "                       match['teams'][0]['score'],\n",
    "                       away])\n",
    "\n",
    "    df = pd.DataFrame(frame, columns=['Week', 'HomeAbbrev', 'Home Location', 'Home Nickname', 'H Opponent', 'HomeScore', 'H Opponent Score',\n",
    "                                  'H Result','AwayAbbrev', 'Away Location', 'Away Nickname', 'A Opponent', 'AwayScore', 'A Opponent Score', 'A Result'])\n",
    "\n",
    "    df['Home Name'] = df['Home Location'] + df['Home Nickname']\n",
    "    df['Away Name'] = df['Away Location'] + df['Away Nickname']\n",
    "\n",
    "    df = (df[['Week', 'HomeAbbrev', 'Home Name', 'HomeScore', 'H Result', 'H Opponent', 'H Opponent Score']].rename(columns={'HomeAbbrev': 'Abbrev', 'HomeScore': 'Score', 'Home Name': 'Team Name', 'H Result':'Result', 'H Opponent':'Opponent', 'H Opponent Score':'Points against'}).append(df[['Week', 'AwayAbbrev', 'Away Name',\n",
    "'AwayScore', 'A Result', 'A Opponent', 'A Opponent Score']].rename(columns={'AwayAbbrev': 'Abbrev', 'AwayScore': 'Score', 'Away Name':'Team Name', 'A Result':'Result', 'A Opponent':'Opponent', 'A Opponent Score':'Points against'})))\n",
    "\n",
    "    df_list = df.values.tolist()\n",
    "    return df_list\n",
    "\n",
    "\n",
    "db_load = cur_db(gw).values.tolist()\n",
    "db_update = gw_db_update(gw)\n",
    "\n",
    "# clist = list(CurrentSeason.objects.values_list('game_week', 'team_name', 'team_abbrev', 'poinst_for', 'opponent', 'points_against', 'result'))\n",
    "# cols = ['Week', 'Team Name', 'Abbrev', 'Score', 'Opponent', 'Points against', 'Result']\n",
    "# df = pd.DataFrame.from_records(clist, columns=cols)\n",
    "\n",
    "df = cur_db(gw)\n",
    "\n",
    "df_list = df.values.tolist()\n",
    "\n",
    "df['Type'] = pd.Series(['Regular Season' if w<=13 else 'Playoff' for w in df['Week']])\n",
    "df['Margin'] = df['Score'] - df['Points against']\n",
    "\n",
    "dff = df[df['Week'] <= 16]\n",
    "df10 = df[df['Week'] >= 10]\n",
    "weeks10 = df10[df10['Score'] == df10['Score'].max()]['Abbrev'].values.tolist()\n",
    "wk1016 = weeks10[0]\n",
    "\n",
    "\n",
    "\n",
    "\n",
    "byAbbrev = dff.groupby('Abbrev')\n",
    "byWeek = dff.groupby('Week')\n",
    "\n",
    "#To get total win loss table:\n",
    "tab = []\n",
    "teams = dff['Abbrev'].unique()\n",
    "for team in teams:\n",
    "\twins = dff[dff['Abbrev'] == team]['Result'].sum()\n",
    "\tlosses = (gw-1) - wins\n",
    "\ttab.append([team, wins, losses])\n",
    "\n",
    "#To get a win-loss data frame:\n",
    "\n",
    "record = [byAbbrev.sum()['Score'].sort_values(ascending = False), byAbbrev.sum()['Points against'].sort_values(ascending = False), byAbbrev.sum()['Result'].sort_values(ascending = False)]\n",
    "record = pd.DataFrame(record).transpose()\n",
    "record['Losses'] = (gw-1) - record['Result']\n",
    "record = record.sort_values(by=\"Result\", ascending = False)\n",
    "\n",
    "def scoreboard_dict(record):\n",
    "    record = record.reset_index()\n",
    "    temp = record.values.tolist()\n",
    "    count = 1\n",
    "    for i in temp:\n",
    "        i[1] = \"%.2f\" % i[1]\n",
    "        i[2] = \"%.2f\" % i[2]\n",
    "        i[3] = int(i[3])\n",
    "        i[4] = int(i[4])\n",
    "        i.append(count)\n",
    "        count += 1\n",
    "    temp\n",
    "    return temp\n",
    "\n",
    "#Trophies:\n",
    "\n",
    "\n",
    "first = record.index[0]\n",
    "high_points = record.sort_values(by='Score', ascending=False).index[0]\n",
    "second = record.index[1]\n",
    "third = record.index[2]\n",
    "best_miss = record.iloc[8:].sort_values(by='Score').index[-1]\n",
    "most_against = record.sort_values(by='Points against', ascending=False).index[0]\n",
    "\n",
    "hs = [0] #high score\n",
    "bl=[0] # highest scoring loss, but currently needs work\n",
    "margin=[0] # biggest margin of victory\n",
    "for index, row in dff.iterrows():\n",
    "    if row['Score'] > hs[0]:\n",
    "        hs = [row['Score'], row['Abbrev'], row['Week']]\n",
    "    if row['Result'] == 0:\n",
    "        if row['Score'] > bl[0]:\n",
    "            bl = [row['Score'], row['Abbrev'], row['Week']]\n",
    "    if row['Result'] == 1:\n",
    "        x = row['Score'] - row['Points against']\n",
    "        if x > margin[0]:\n",
    "            margin = [x, row['Abbrev'], row['Week']]\n",
    "margin[0] = \"%.2f\" % margin[0]\n",
    "\n",
    "\n",
    "trophies = {\n",
    "'first':['$375', first],\n",
    "'second':['$100', second],\n",
    "'third':['$50', third],\n",
    "'season_winner':['$25', first],\n",
    "'skittish':['$40', 'DRAG'],\n",
    "'high_points':['$25', high_points],\n",
    "'week10_16':['$20', wk1016],\n",
    "'highest_loss':['$10', bl[1], bl[0], bl[2]],\n",
    "'high_score':['$10', hs[1], hs[0], hs[2]],\n",
    "'margin':['$10', margin[1], margin[0], margin[2]],\n",
    "'most_against':['$10', most_against],\n",
    "'best_miss':['$25', best_miss]\n",
    "}\n",
    "\n",
    "leaders={}\n",
    "for key, values in trophies.items():\n",
    "    if values[1] in leaders:\n",
    "        leaders[values[1]]+=int(values[0][1:])\n",
    "    if values[1] not in leaders:\n",
    "        leaders[values[1]]=int(values[0][1:])\n",
    "\n",
    "dollars = []\n",
    "for key, value in leaders.items():\n",
    "\ttemp = [key, value]\n",
    "\tdollars.append(temp)\n",
    "\n",
    "\n",
    "def skittish(league): # outputs dictionary with key=game week, value =[losing score, team name], along with a list of survivors\n",
    "    skitted = {}\n",
    "    out=[]\n",
    "    survivors = ['The Dragons']\n",
    "    for w in range(1, 14):\n",
    "        matchups = league.scoreboard(week=w)\n",
    "        score = {}\n",
    "        for i in matchups:\n",
    "            if i.home_team.team_name not in skitted:\n",
    "                score[i.home_team.team_name] = i.home_score\n",
    "            if i.away_team.team_name not in skitted:\n",
    "                score[i.away_team.team_name] = i.away_score\n",
    "        if min(score, key=score.get) not in skitted:\n",
    "            skitted[min(score, key=score.get)] = [w, score[min(score, key=score.get)]]\n",
    "    for i in league.scoreboard(week=gameweek(league)+1):\n",
    "            if i.home_team.team_name not in skitted:\n",
    "                    survivors.append(i.home_team.team_name)\n",
    "            if i.away_team.team_name not in skitted:\n",
    "                    survivors.append(i.away_team.team_name)\n",
    "    for key, value in skitted.items():\n",
    "        temp = [key, value[0], value[1]]\n",
    "        out.append(temp)\n",
    "    return [out, survivors]\n",
    "\n",
    "skit = skittish(league)\n",
    "\n",
    "def season_stats():\n",
    "    stats = []\n",
    "    for i in range(1, gw):\n",
    "        hi = dff[dff['Week']==i]['Score'].max()\n",
    "        lo = dff[dff['Week']==i]['Score'].min()\n",
    "        avg = dff[dff['Week']==i]['Score'].mean()\n",
    "        std = dff[dff['Week']==i]['Score'].std()\n",
    "        stats.append([i, hi, lo, avg, std])\n",
    "    for i in stats:\n",
    "        i[1] = \"%.2f\" % i[1]\n",
    "        i[2] = \"%.2f\" % i[2]\n",
    "        i[3] = \"%.2f\" % i[3]\n",
    "        i[4] = \"%.2f\" % i[4]\n",
    "    return stats\n"
   ]
  },
  {
   "cell_type": "code",
   "execution_count": 2,
   "metadata": {},
   "outputs": [
    {
     "data": {
      "text/html": [
       "<div>\n",
       "<style scoped>\n",
       "    .dataframe tbody tr th:only-of-type {\n",
       "        vertical-align: middle;\n",
       "    }\n",
       "\n",
       "    .dataframe tbody tr th {\n",
       "        vertical-align: top;\n",
       "    }\n",
       "\n",
       "    .dataframe thead th {\n",
       "        text-align: right;\n",
       "    }\n",
       "</style>\n",
       "<table border=\"1\" class=\"dataframe\">\n",
       "  <thead>\n",
       "    <tr style=\"text-align: right;\">\n",
       "      <th></th>\n",
       "      <th>Week</th>\n",
       "      <th>Abbrev</th>\n",
       "      <th>Team Name</th>\n",
       "      <th>Score</th>\n",
       "      <th>Result</th>\n",
       "      <th>Opponent</th>\n",
       "      <th>Points against</th>\n",
       "      <th>Type</th>\n",
       "      <th>Margin</th>\n",
       "    </tr>\n",
       "  </thead>\n",
       "  <tbody>\n",
       "    <tr>\n",
       "      <th>0</th>\n",
       "      <td>1</td>\n",
       "      <td>JML</td>\n",
       "      <td>Thots n Players4 LeVeon Bell</td>\n",
       "      <td>108.08</td>\n",
       "      <td>0</td>\n",
       "      <td>STAN</td>\n",
       "      <td>139.79</td>\n",
       "      <td>Regular Season</td>\n",
       "      <td>-31.71</td>\n",
       "    </tr>\n",
       "    <tr>\n",
       "      <th>1</th>\n",
       "      <td>1</td>\n",
       "      <td>DRAG</td>\n",
       "      <td>TheDragons</td>\n",
       "      <td>96.24</td>\n",
       "      <td>0</td>\n",
       "      <td>JERI</td>\n",
       "      <td>123.41</td>\n",
       "      <td>Regular Season</td>\n",
       "      <td>-27.17</td>\n",
       "    </tr>\n",
       "    <tr>\n",
       "      <th>2</th>\n",
       "      <td>1</td>\n",
       "      <td>TW</td>\n",
       "      <td>The Brock Lobsters</td>\n",
       "      <td>122.41</td>\n",
       "      <td>0</td>\n",
       "      <td>TRLY</td>\n",
       "      <td>135.98</td>\n",
       "      <td>Regular Season</td>\n",
       "      <td>-13.57</td>\n",
       "    </tr>\n",
       "    <tr>\n",
       "      <th>3</th>\n",
       "      <td>1</td>\n",
       "      <td>phil</td>\n",
       "      <td>When I cum IPhillip Rivers</td>\n",
       "      <td>133.94</td>\n",
       "      <td>1</td>\n",
       "      <td>JJ's</td>\n",
       "      <td>97.40</td>\n",
       "      <td>Regular Season</td>\n",
       "      <td>36.54</td>\n",
       "    </tr>\n",
       "    <tr>\n",
       "      <th>4</th>\n",
       "      <td>1</td>\n",
       "      <td>HATE</td>\n",
       "      <td>Im a sick fuckilikeaquickkupp</td>\n",
       "      <td>140.30</td>\n",
       "      <td>1</td>\n",
       "      <td>FOX</td>\n",
       "      <td>127.35</td>\n",
       "      <td>Regular Season</td>\n",
       "      <td>12.95</td>\n",
       "    </tr>\n",
       "  </tbody>\n",
       "</table>\n",
       "</div>"
      ],
      "text/plain": [
       "   Week Abbrev                      Team Name   Score  Result Opponent  \\\n",
       "0     1    JML   Thots n Players4 LeVeon Bell  108.08       0     STAN   \n",
       "1     1   DRAG                     TheDragons   96.24       0     JERI   \n",
       "2     1     TW             The Brock Lobsters  122.41       0     TRLY   \n",
       "3     1   phil     When I cum IPhillip Rivers  133.94       1     JJ's   \n",
       "4     1   HATE  Im a sick fuckilikeaquickkupp  140.30       1      FOX   \n",
       "\n",
       "   Points against            Type  Margin  \n",
       "0          139.79  Regular Season  -31.71  \n",
       "1          123.41  Regular Season  -27.17  \n",
       "2          135.98  Regular Season  -13.57  \n",
       "3           97.40  Regular Season   36.54  \n",
       "4          127.35  Regular Season   12.95  "
      ]
     },
     "execution_count": 2,
     "metadata": {},
     "output_type": "execute_result"
    }
   ],
   "source": [
    "df.head()"
   ]
  },
  {
   "cell_type": "code",
   "execution_count": 3,
   "metadata": {},
   "outputs": [],
   "source": [
    "df13 = df[df['Week'] <= 13]"
   ]
  },
  {
   "cell_type": "code",
   "execution_count": 4,
   "metadata": {},
   "outputs": [],
   "source": [
    "bA = df13.groupby('Abbrev')"
   ]
  },
  {
   "cell_type": "code",
   "execution_count": 9,
   "metadata": {},
   "outputs": [
    {
     "data": {
      "text/plain": [
       "Abbrev\n",
       "DICK    1746.74\n",
       "STAN    1719.07\n",
       "TRLY    1668.73\n",
       "DRAG    1653.14\n",
       "phil    1588.75\n",
       "FOX     1493.19\n",
       "TW      1467.76\n",
       "GODS    1465.49\n",
       "JERI    1451.24\n",
       "EJF     1449.73\n",
       "JJ's    1438.99\n",
       "HATE    1383.13\n",
       "TBUX    1371.80\n",
       "JML     1221.38\n",
       "Name: Score, dtype: float64"
      ]
     },
     "execution_count": 9,
     "metadata": {},
     "output_type": "execute_result"
    }
   ],
   "source": [
    "bA.sum()['Score'].sort_values(ascending=False)"
   ]
  },
  {
   "cell_type": "code",
   "execution_count": 10,
   "metadata": {},
   "outputs": [
    {
     "data": {
      "text/plain": [
       "Abbrev\n",
       "TW      1617.71\n",
       "GODS    1604.00\n",
       "STAN    1574.10\n",
       "EJF     1547.12\n",
       "JERI    1545.45\n",
       "DICK    1544.64\n",
       "FOX     1538.62\n",
       "DRAG    1512.23\n",
       "JJ's    1512.18\n",
       "TRLY    1482.53\n",
       "phil    1456.55\n",
       "JML     1420.10\n",
       "TBUX    1386.14\n",
       "HATE    1377.77\n",
       "Name: Points against, dtype: float64"
      ]
     },
     "execution_count": 10,
     "metadata": {},
     "output_type": "execute_result"
    }
   ],
   "source": [
    "bA.sum()['Points against'].sort_values(ascending=False)"
   ]
  },
  {
   "cell_type": "code",
   "execution_count": 38,
   "metadata": {},
   "outputs": [
    {
     "data": {
      "text/plain": [
       "'STAN'"
      ]
     },
     "execution_count": 38,
     "metadata": {},
     "output_type": "execute_result"
    }
   ],
   "source": [
    "df[df['Margin']==df['Margin'].max()]['Abbrev'].values[0]"
   ]
  },
  {
   "cell_type": "code",
   "execution_count": 13,
   "metadata": {},
   "outputs": [
    {
     "data": {
      "text/plain": [
       "188.21"
      ]
     },
     "execution_count": 13,
     "metadata": {},
     "output_type": "execute_result"
    }
   ],
   "source": [
    "df['Score'].max()"
   ]
  },
  {
   "cell_type": "code",
   "execution_count": 20,
   "metadata": {},
   "outputs": [
    {
     "data": {
      "text/html": [
       "<div>\n",
       "<style scoped>\n",
       "    .dataframe tbody tr th:only-of-type {\n",
       "        vertical-align: middle;\n",
       "    }\n",
       "\n",
       "    .dataframe tbody tr th {\n",
       "        vertical-align: top;\n",
       "    }\n",
       "\n",
       "    .dataframe thead th {\n",
       "        text-align: right;\n",
       "    }\n",
       "</style>\n",
       "<table border=\"1\" class=\"dataframe\">\n",
       "  <thead>\n",
       "    <tr style=\"text-align: right;\">\n",
       "      <th></th>\n",
       "      <th>Score</th>\n",
       "      <th>Points against</th>\n",
       "      <th>Result</th>\n",
       "      <th>Losses</th>\n",
       "    </tr>\n",
       "  </thead>\n",
       "  <tbody>\n",
       "    <tr>\n",
       "      <th>TRLY</th>\n",
       "      <td>1668.73</td>\n",
       "      <td>1482.53</td>\n",
       "      <td>10.0</td>\n",
       "      <td>6.0</td>\n",
       "    </tr>\n",
       "    <tr>\n",
       "      <th>STAN</th>\n",
       "      <td>1719.07</td>\n",
       "      <td>1574.10</td>\n",
       "      <td>9.0</td>\n",
       "      <td>7.0</td>\n",
       "    </tr>\n",
       "    <tr>\n",
       "      <th>DICK</th>\n",
       "      <td>1746.74</td>\n",
       "      <td>1544.64</td>\n",
       "      <td>8.0</td>\n",
       "      <td>8.0</td>\n",
       "    </tr>\n",
       "    <tr>\n",
       "      <th>phil</th>\n",
       "      <td>1588.75</td>\n",
       "      <td>1456.55</td>\n",
       "      <td>8.0</td>\n",
       "      <td>8.0</td>\n",
       "    </tr>\n",
       "    <tr>\n",
       "      <th>HATE</th>\n",
       "      <td>1383.13</td>\n",
       "      <td>1377.77</td>\n",
       "      <td>8.0</td>\n",
       "      <td>8.0</td>\n",
       "    </tr>\n",
       "    <tr>\n",
       "      <th>FOX</th>\n",
       "      <td>1493.19</td>\n",
       "      <td>1538.62</td>\n",
       "      <td>7.0</td>\n",
       "      <td>9.0</td>\n",
       "    </tr>\n",
       "    <tr>\n",
       "      <th>TBUX</th>\n",
       "      <td>1371.80</td>\n",
       "      <td>1386.14</td>\n",
       "      <td>7.0</td>\n",
       "      <td>9.0</td>\n",
       "    </tr>\n",
       "    <tr>\n",
       "      <th>DRAG</th>\n",
       "      <td>1653.14</td>\n",
       "      <td>1512.23</td>\n",
       "      <td>6.0</td>\n",
       "      <td>10.0</td>\n",
       "    </tr>\n",
       "    <tr>\n",
       "      <th>TW</th>\n",
       "      <td>1467.76</td>\n",
       "      <td>1617.71</td>\n",
       "      <td>6.0</td>\n",
       "      <td>10.0</td>\n",
       "    </tr>\n",
       "    <tr>\n",
       "      <th>GODS</th>\n",
       "      <td>1465.49</td>\n",
       "      <td>1604.00</td>\n",
       "      <td>5.0</td>\n",
       "      <td>11.0</td>\n",
       "    </tr>\n",
       "    <tr>\n",
       "      <th>JERI</th>\n",
       "      <td>1451.24</td>\n",
       "      <td>1545.45</td>\n",
       "      <td>5.0</td>\n",
       "      <td>11.0</td>\n",
       "    </tr>\n",
       "    <tr>\n",
       "      <th>EJF</th>\n",
       "      <td>1449.73</td>\n",
       "      <td>1547.12</td>\n",
       "      <td>5.0</td>\n",
       "      <td>11.0</td>\n",
       "    </tr>\n",
       "    <tr>\n",
       "      <th>JJ's</th>\n",
       "      <td>1438.99</td>\n",
       "      <td>1512.18</td>\n",
       "      <td>4.0</td>\n",
       "      <td>12.0</td>\n",
       "    </tr>\n",
       "    <tr>\n",
       "      <th>JML</th>\n",
       "      <td>1221.38</td>\n",
       "      <td>1420.10</td>\n",
       "      <td>3.0</td>\n",
       "      <td>13.0</td>\n",
       "    </tr>\n",
       "  </tbody>\n",
       "</table>\n",
       "</div>"
      ],
      "text/plain": [
       "        Score  Points against  Result  Losses\n",
       "TRLY  1668.73         1482.53    10.0     6.0\n",
       "STAN  1719.07         1574.10     9.0     7.0\n",
       "DICK  1746.74         1544.64     8.0     8.0\n",
       "phil  1588.75         1456.55     8.0     8.0\n",
       "HATE  1383.13         1377.77     8.0     8.0\n",
       "FOX   1493.19         1538.62     7.0     9.0\n",
       "TBUX  1371.80         1386.14     7.0     9.0\n",
       "DRAG  1653.14         1512.23     6.0    10.0\n",
       "TW    1467.76         1617.71     6.0    10.0\n",
       "GODS  1465.49         1604.00     5.0    11.0\n",
       "JERI  1451.24         1545.45     5.0    11.0\n",
       "EJF   1449.73         1547.12     5.0    11.0\n",
       "JJ's  1438.99         1512.18     4.0    12.0\n",
       "JML   1221.38         1420.10     3.0    13.0"
      ]
     },
     "execution_count": 20,
     "metadata": {},
     "output_type": "execute_result"
    }
   ],
   "source": [
    "rec = [bA.sum()['Score'].sort_values(ascending = False), bA.sum()['Points against'].sort_values(ascending = False), bA.sum()['Result'].sort_values(ascending = False)]\n",
    "rec = pd.DataFrame(rec).transpose()\n",
    "rec['Losses'] = (gw-1) - rec['Result']\n",
    "rec = rec.sort_values(by=\"Result\", ascending = False)\n",
    "rec"
   ]
  },
  {
   "cell_type": "code",
   "execution_count": 22,
   "metadata": {},
   "outputs": [
    {
     "data": {
      "text/plain": [
       "Abbrev\n",
       "STAN    2126.70\n",
       "DICK    2048.63\n",
       "DRAG    2036.90\n",
       "TRLY    2018.28\n",
       "FOX     1931.19\n",
       "phil    1889.79\n",
       "GODS    1859.72\n",
       "JJ's    1802.37\n",
       "TW      1773.15\n",
       "JERI    1737.30\n",
       "EJF     1721.41\n",
       "TBUX    1637.17\n",
       "HATE    1612.45\n",
       "JML     1445.32\n",
       "Name: Score, dtype: float64"
      ]
     },
     "execution_count": 22,
     "metadata": {},
     "output_type": "execute_result"
    }
   ],
   "source": [
    "byAbbrev.sum()['Score'].sort_values(ascending = False)"
   ]
  },
  {
   "cell_type": "code",
   "execution_count": 27,
   "metadata": {},
   "outputs": [
    {
     "data": {
      "text/plain": [
       "151.73"
      ]
     },
     "execution_count": 27,
     "metadata": {},
     "output_type": "execute_result"
    }
   ],
   "source": [
    "df[df['Margin']<=0]['Score'].max()"
   ]
  },
  {
   "cell_type": "code",
   "execution_count": 30,
   "metadata": {},
   "outputs": [
    {
     "data": {
      "text/plain": [
       "Abbrev\n",
       "DRAG    1007.74\n",
       "STAN     996.14\n",
       "TRLY     900.38\n",
       "GODS     863.28\n",
       "JJ's     850.38\n",
       "FOX      848.64\n",
       "DICK     799.83\n",
       "phil     762.80\n",
       "JERI     761.11\n",
       "TW       715.54\n",
       "TBUX     655.31\n",
       "EJF      641.21\n",
       "HATE     640.41\n",
       "JML      550.38\n",
       "Name: Score, dtype: float64"
      ]
     },
     "execution_count": 30,
     "metadata": {},
     "output_type": "execute_result"
    }
   ],
   "source": [
    "df10.groupby('Abbrev').sum()['Score'].sort_values(ascending=False)"
   ]
  },
  {
   "cell_type": "code",
   "execution_count": 34,
   "metadata": {},
   "outputs": [
    {
     "data": {
      "text/plain": [
       "'TRLY'"
      ]
     },
     "execution_count": 34,
     "metadata": {},
     "output_type": "execute_result"
    }
   ],
   "source": [
    "record.index[0]"
   ]
  },
  {
   "cell_type": "code",
   "execution_count": 39,
   "metadata": {},
   "outputs": [
    {
     "data": {
      "text/plain": [
       "'STAN'"
      ]
     },
     "execution_count": 39,
     "metadata": {},
     "output_type": "execute_result"
    }
   ],
   "source": [
    "wk1016"
   ]
  },
  {
   "cell_type": "code",
   "execution_count": 46,
   "metadata": {},
   "outputs": [
    {
     "data": {
      "text/plain": [
       "1007.7400000000001"
      ]
     },
     "execution_count": 46,
     "metadata": {},
     "output_type": "execute_result"
    }
   ],
   "source": [
    "df10.groupby('Abbrev').sum()['Score'].max()"
   ]
  },
  {
   "cell_type": "code",
   "execution_count": 47,
   "metadata": {},
   "outputs": [
    {
     "data": {
      "text/plain": [
       "'STAN'"
      ]
     },
     "execution_count": 47,
     "metadata": {},
     "output_type": "execute_result"
    }
   ],
   "source": [
    "wk1016"
   ]
  },
  {
   "cell_type": "code",
   "execution_count": null,
   "metadata": {},
   "outputs": [],
   "source": []
  }
 ],
 "metadata": {
  "kernelspec": {
   "display_name": "Python 3",
   "language": "python",
   "name": "python3"
  },
  "language_info": {
   "codemirror_mode": {
    "name": "ipython",
    "version": 3
   },
   "file_extension": ".py",
   "mimetype": "text/x-python",
   "name": "python",
   "nbconvert_exporter": "python",
   "pygments_lexer": "ipython3",
   "version": "3.6.6"
  }
 },
 "nbformat": 4,
 "nbformat_minor": 2
}
